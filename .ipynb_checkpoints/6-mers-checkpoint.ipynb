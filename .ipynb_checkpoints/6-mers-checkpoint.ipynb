{
 "cells": [
  {
   "cell_type": "code",
   "execution_count": 1,
   "metadata": {
    "collapsed": true
   },
   "outputs": [],
   "source": [
    "import re"
   ]
  },
  {
   "cell_type": "code",
   "execution_count": 2,
   "metadata": {
    "collapsed": true
   },
   "outputs": [],
   "source": [
    "f = open('e_coli_genes.txt')\n",
    "gene_file = f.read().replace('\\n', '')\n",
    "f.close()\n",
    "locations = re.findall('(\\d+)\\.\\.(\\d+)', gene_file)\n",
    "genes = re.findall(']([AGTC]+)', gene_file)"
   ]
  },
  {
   "cell_type": "code",
   "execution_count": 3,
   "metadata": {
    "collapsed": true
   },
   "outputs": [],
   "source": [
    "f_2 = open('e_coli_genome.txt')\n",
    "genome = f_2.read().replace('\\n', '')\n",
    "f_2.close()"
   ]
  },
  {
   "cell_type": "code",
   "execution_count": 4,
   "metadata": {
    "collapsed": true
   },
   "outputs": [],
   "source": [
    "length = 6"
   ]
  },
  {
   "cell_type": "code",
   "execution_count": 5,
   "metadata": {
    "collapsed": true
   },
   "outputs": [],
   "source": [
    "from collections import Counter"
   ]
  },
  {
   "cell_type": "code",
   "execution_count": 6,
   "metadata": {
    "collapsed": true
   },
   "outputs": [],
   "source": [
    "sub_genome = [genome[i:i+length] for i in range(len(genome)-length+1)]\n",
    "hash = Counter(sub_genome)"
   ]
  },
  {
   "cell_type": "code",
   "execution_count": 7,
   "metadata": {
    "collapsed": true
   },
   "outputs": [],
   "source": [
    "sub_genes = [i[j:j+length] for i in genes for j in range(len(i)-length+1)]\n",
    "hash_2 = Counter(sub_genes)"
   ]
  },
  {
   "cell_type": "code",
   "execution_count": 8,
   "metadata": {
    "collapsed": true
   },
   "outputs": [],
   "source": [
    "def makeHash(k, first_k = ['A', 'G', 'T', 'C']):\n",
    "    if k == 1:\n",
    "        return first_k\n",
    "    to_return = []\n",
    "    for i in first_k:\n",
    "        for j in makeHash(k - 1):\n",
    "            to_return.append(i + j)\n",
    "    return to_return\n",
    "\n",
    "hash_table = makeHash(length)[:4 ** (length-1) * 2]"
   ]
  },
  {
   "cell_type": "code",
   "execution_count": 9,
   "metadata": {
    "collapsed": true
   },
   "outputs": [],
   "source": [
    "import matplotlib.pyplot as plt\n",
    "import seaborn as sns"
   ]
  },
  {
   "cell_type": "code",
   "execution_count": 10,
   "metadata": {
    "collapsed": true
   },
   "outputs": [],
   "source": [
    "def makeComplement(sequence):\n",
    "    bases = ['A', 'G', 'T', 'C']\n",
    "    complements = ['T', 'C', 'A', 'G']\n",
    "    to_return = ''\n",
    "    for i in sequence[::-1]:\n",
    "        to_return += complements[bases.index(i)]\n",
    "    return to_return"
   ]
  },
  {
   "cell_type": "code",
   "execution_count": 11,
   "metadata": {
    "collapsed": true
   },
   "outputs": [],
   "source": [
    "to_plot_x = []\n",
    "for i in hash_table:\n",
    "    if i in hash and makeComplement(i) in hash:\n",
    "        to_plot_x.append(hash[i] + hash[makeComplement(i)])\n",
    "    elif i in hash:\n",
    "        to_plot_x.append(hash[i])\n",
    "    elif makeComplement(i) in hash:\n",
    "        to_plot_x.append(hash[makeComplement(i)])\n",
    "    else:\n",
    "        to_plot_x.append(0)\n",
    "\n",
    "to_plot_y = []\n",
    "for i in hash_table:\n",
    "    if i in hash_2 and makeComplement(i) in hash_2:\n",
    "        to_plot_y.append(hash_2[i] + hash_2[makeComplement(i)])\n",
    "    elif i in hash_2:\n",
    "        to_plot_y.append(hash_2[i])\n",
    "    elif makeComplement(i) in hash_2:\n",
    "        to_plot_y.append(hash_2[makeComplement(i)])\n",
    "    else:\n",
    "        to_plot_y.append(0)"
   ]
  },
  {
   "cell_type": "code",
   "execution_count": 27,
   "metadata": {},
   "outputs": [
    {
     "data": {
      "image/png": "[encoded data removed]",
      "text/plain": [
       "<matplotlib.figure.Figure at 0x13e71b208>"
      ]
     },
     "metadata": {},
     "output_type": "display_data"
    }
   ],
   "source": [
    "plt.scatter(to_plot_x, to_plot_y, s=12.5, alpha=0.5)\n",
    "plt.scatter(to_plot_x[hash_table.index(makeComplement('TATAAT'))],\n",
    "            to_plot_y[hash_table.index(makeComplement('TATAAT'))], s=12.5)\n",
    "plt.xlabel('Within the whole genome')\n",
    "plt.ylabel('Within genes')\n",
    "plt.savefig('kmers_in_genes.png', dpi=1000)\n",
    "plt.show()"
   ]
  },
  {
   "cell_type": "code",
   "execution_count": 13,
   "metadata": {},
   "outputs": [
    {
     "data": {
      "text/plain": [
       "'GCTGGC'"
      ]
     },
     "execution_count": 13,
     "metadata": {},
     "output_type": "execute_result"
    }
   ],
   "source": [
    "import numpy as np\n",
    "hash_table[to_plot_x.index(np.max(to_plot_x))]"
   ]
  },
  {
   "cell_type": "code",
   "execution_count": 14,
   "metadata": {},
   "outputs": [
    {
     "data": {
      "text/plain": [
       "'GTCTAG'"
      ]
     },
     "execution_count": 14,
     "metadata": {},
     "output_type": "execute_result"
    }
   ],
   "source": [
    "hash_table[to_plot_y.index(np.min(to_plot_y))]"
   ]
  },
  {
   "cell_type": "code",
   "execution_count": 15,
   "metadata": {},
   "outputs": [
    {
     "data": {
      "text/plain": [
       "29"
      ]
     },
     "execution_count": 15,
     "metadata": {},
     "output_type": "execute_result"
    }
   ],
   "source": [
    "np.min(to_plot_y)"
   ]
  },
  {
   "cell_type": "code",
   "execution_count": 16,
   "metadata": {
    "collapsed": true
   },
   "outputs": [],
   "source": [
    "one_hot = np.zeros((1,len(genome)))"
   ]
  },
  {
   "cell_type": "code",
   "execution_count": 17,
   "metadata": {
    "collapsed": true
   },
   "outputs": [],
   "source": [
    "for i in locations:\n",
    "    one_hot[0, int(i[0])-1:int(i[1])-1] = 1"
   ]
  },
  {
   "cell_type": "code",
   "execution_count": 18,
   "metadata": {},
   "outputs": [
    {
     "data": {
      "image/png": "[encoded data removed]",
      "text/plain": [
       "<matplotlib.figure.Figure at 0x13df87ef0>"
      ]
     },
     "metadata": {},
     "output_type": "display_data"
    }
   ],
   "source": [
    "plt.imshow(one_hot, aspect='auto')\n",
    "plt.show()"
   ]
  },
  {
   "cell_type": "code",
   "execution_count": null,
   "metadata": {
    "collapsed": true
   },
   "outputs": [],
   "source": []
  }
 ],
 "metadata": {
  "kernelspec": {
   "display_name": "Python 3",
   "language": "python",
   "name": "python3"
  },
  "language_info": {
   "codemirror_mode": {
    "name": "ipython",
    "version": 3
   },
   "file_extension": ".py",
   "mimetype": "text/x-python",
   "name": "python",
   "nbconvert_exporter": "python",
   "pygments_lexer": "ipython3",
   "version": "3.6.1"
  }
 },
 "nbformat": 4,
 "nbformat_minor": 2
}
