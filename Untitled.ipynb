{
 "cells": [
  {
   "cell_type": "code",
   "execution_count": 1,
   "metadata": {
    "collapsed": true
   },
   "outputs": [],
   "source": [
    "import re\n",
    "\n",
    "f = open('e_coli_genes.txt')\n",
    "gene_file = f.read().replace('\\n', '')\n",
    "f.close()\n",
    "\n",
    "genes = re.findall(']([AGTC]+)', gene_file)\n",
    "\n",
    "f_2 = open('e_coli_genome.txt')\n",
    "genome = f_2.read().replace('\\n', '')\n",
    "f_2.close()"
   ]
  },
  {
   "cell_type": "code",
   "execution_count": 2,
   "metadata": {
    "collapsed": true
   },
   "outputs": [],
   "source": [
    "length = 6"
   ]
  },
  {
   "cell_type": "code",
   "execution_count": 3,
   "metadata": {},
   "outputs": [],
   "source": [
    "hash = {}\n",
    "for i in range(len(genome) - length):\n",
    "    if not genome[i:i+length] in hash:\n",
    "        hash[genome[i:i+length]] = 1\n",
    "    else:\n",
    "        hash[genome[i:i+length]] += 1\n",
    "\n",
    "hash_2 = {}\n",
    "for i in genes:\n",
    "    for j in range(len(i) - length):\n",
    "        if not i[j:j+length] in hash_2:\n",
    "            hash_2[i[j:j+length]] = 1\n",
    "        else:\n",
    "            hash_2[i[j:j+length]] += 1"
   ]
  },
  {
   "cell_type": "code",
   "execution_count": 4,
   "metadata": {},
   "outputs": [],
   "source": [
    "import matplotlib.pyplot as plt\n",
    "import seaborn as sns"
   ]
  },
  {
   "cell_type": "code",
   "execution_count": 5,
   "metadata": {},
   "outputs": [],
   "source": [
    "def makeHash(k, first_k = ['A', 'G', 'T', 'C']):\n",
    "    if k == 1:\n",
    "        return first_k\n",
    "    to_return = []\n",
    "    for i in first_k:\n",
    "        for j in makeHash(k - 1):\n",
    "            to_return.append(i + j)\n",
    "    return to_return\n",
    "\n",
    "hash_table = makeHash(length)[:4 ** (length - 1) * 2]"
   ]
  },
  {
   "cell_type": "code",
   "execution_count": 6,
   "metadata": {
    "collapsed": true
   },
   "outputs": [],
   "source": [
    "def makeComplement(sequence):\n",
    "    bases = ['A', 'G', 'T', 'C']\n",
    "    complements = ['T', 'C', 'A', 'G']\n",
    "    to_return = ''\n",
    "    for i in sequence[::-1]:\n",
    "        to_return += complements[bases.index(i)]\n",
    "    return to_return"
   ]
  },
  {
   "cell_type": "code",
   "execution_count": 7,
   "metadata": {},
   "outputs": [],
   "source": [
    "to_plot_x = []\n",
    "for i in hash_table:\n",
    "    if i in hash and makeComplement(i) in hash:\n",
    "        to_plot_x.append(hash[i] + hash[makeComplement(i)])\n",
    "    elif i in hash:\n",
    "        to_plot_x.append(hash[i])\n",
    "    elif makeComplement(i) in hash:\n",
    "        to_plot_x.append(hash[makeComplement(i)])\n",
    "    else:\n",
    "        to_plot_x.append(0)\n",
    "\n",
    "to_plot_y = []\n",
    "for i in hash_table:\n",
    "    if i in hash_2 and makeComplement(i) in hash_2:\n",
    "        to_plot_y.append(hash_2[i] + hash_2[makeComplement(i)])\n",
    "    elif i in hash_2:\n",
    "        to_plot_y.append(hash_2[i])\n",
    "    elif makeComplement(i) in hash_2:\n",
    "        to_plot_y.append(hash_2[makeComplement(i)])\n",
    "    else:\n",
    "        to_plot_y.append(0)"
   ]
  },
  {
   "cell_type": "code",
   "execution_count": 12,
   "metadata": {},
   "outputs": [
    {
     "data": {
      "image/png": "[encoded data removed]",
      "text/plain": [
       "<matplotlib.figure.Figure at 0x11600bb38>"
      ]
     },
     "metadata": {},
     "output_type": "display_data"
    }
   ],
   "source": [
    "plt.scatter(to_plot_x, to_plot_y, s=3)\n",
    "plt.scatter(to_plot_x[hash_table.index(makeComplement('TATAAT'))],\n",
    "            to_plot_y[hash_table.index(makeComplement('TATAAT'))], s=3)\n",
    "plt.xlabel('Within the whole genome')\n",
    "plt.ylabel('Within genes')\n",
    "plt.savefig('kmers_in_genes.png', dpi=300)\n",
    "plt.show()"
   ]
  },
  {
   "cell_type": "code",
   "execution_count": null,
   "metadata": {
    "collapsed": true
   },
   "outputs": [],
   "source": []
  }
 ],
 "metadata": {
  "kernelspec": {
   "display_name": "Python 3",
   "language": "python",
   "name": "python3"
  },
  "language_info": {
   "codemirror_mode": {
    "name": "ipython",
    "version": 3
   },
   "file_extension": ".py",
   "mimetype": "text/x-python",
   "name": "python",
   "nbconvert_exporter": "python",
   "pygments_lexer": "ipython3",
   "version": "3.6.1"
  }
 },
 "nbformat": 4,
 "nbformat_minor": 2
}
